{
 "cells": [
  {
   "cell_type": "code",
   "execution_count": 23,
   "id": "991fd06c-be70-4c40-a734-93e213939a49",
   "metadata": {},
   "outputs": [
    {
     "ename": "SyntaxError",
     "evalue": "unterminated string literal (detected at line 14) (383421023.py, line 14)",
     "output_type": "error",
     "traceback": [
      "\u001b[1;36m  Cell \u001b[1;32mIn[23], line 14\u001b[1;36m\u001b[0m\n\u001b[1;33m    print(f\"- {task})\u001b[0m\n\u001b[1;37m          ^\u001b[0m\n\u001b[1;31mSyntaxError\u001b[0m\u001b[1;31m:\u001b[0m unterminated string literal (detected at line 14)\n"
     ]
    }
   ],
   "source": [
    "print(\"Welcome to the to do list app\")\n",
    "\n",
    "\n",
    "def updatetask():\n",
    "    tasks = []\n",
    "    no_task = int(input(\"Please enter desired number of tasks\"))\n",
    "    for i in range(no_task):\n",
    "        task = input(\"please enter desired tasks\")\n",
    "        tasks.append(task)\n",
    "        print(f\"Task '{task}' has been added to your to do list.\")\n",
    "\n",
    "    print(\"Updated to do list\")\n",
    "    for task in tasks:\n",
    "        print(f\"- {task}\")\n",
    "\n",
    "def createlist():\n",
    "    tasks = []\n",
    "    no_task = int(input(\"Enter the number of tasks you want to create))\n",
    "\n",
    "    for i in range(no_task):\n",
    "        task = input(f\"Enter task {i+1}: \")\n",
    "        tasks.append(task)\n",
    "\n",
    "     print(\"To do list has been created\")\n",
    "    \n",
    "                     \n",
    "print(\"Please select option depending on desired use\")\n",
    "print(\"1. Create a to do list\")\n",
    "print(\"2. Update to do list\")\n",
    "print(\"3. Track to do list\")\n",
    "\n",
    "choice = input(\" User please enter the number of tasks you would like to carry out today\")\n",
    "\n",
    "if choice == \"1\":\n",
    "    createlist()\n",
    "\n",
    "elif choice == \"2\":\n",
    "    updatetask()\n",
    "    \n",
    "elif choice == \"3\":\n",
    "    tracklist()\n",
    "\n",
    "else:\n",
    "    print(\"Task cannot be performed please try again later\")\n",
    "\n",
    "    "
   ]
  },
  {
   "cell_type": "code",
   "execution_count": null,
   "id": "30920460-6279-45dd-932a-23d3b7b0b75e",
   "metadata": {},
   "outputs": [],
   "source": []
  }
 ],
 "metadata": {
  "kernelspec": {
   "display_name": "Python 3 (ipykernel)",
   "language": "python",
   "name": "python3"
  },
  "language_info": {
   "codemirror_mode": {
    "name": "ipython",
    "version": 3
   },
   "file_extension": ".py",
   "mimetype": "text/x-python",
   "name": "python",
   "nbconvert_exporter": "python",
   "pygments_lexer": "ipython3",
   "version": "3.11.7"
  }
 },
 "nbformat": 4,
 "nbformat_minor": 5
}
