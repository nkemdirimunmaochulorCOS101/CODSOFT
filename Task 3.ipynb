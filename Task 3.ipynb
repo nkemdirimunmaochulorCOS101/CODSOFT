{
 "cells": [
  {
   "cell_type": "code",
   "execution_count": null,
   "id": "10f45b44-d4fc-40e8-8eb7-384667d27bcb",
   "metadata": {},
   "outputs": [
    {
     "name": "stdin",
     "output_type": "stream",
     "text": [
      "Enter desired password length 1\n",
      "Enter desired amount of passwords 4\n"
     ]
    },
    {
     "name": "stdout",
     "output_type": "stream",
     "text": [
      "Generated password is  Dw1,\n",
      "Generated password is  Sm3^\n",
      "Generated password is  Gr0%\n",
      "Generated password is  Vo1:\n"
     ]
    }
   ],
   "source": [
    "import random\n",
    "\n",
    "uppercase_letters = \"ABCDEFGHIJKLMNOPQRSTUVWXYZ\"\n",
    "lowercase_letters = \"abcdefghijklmnopqrstuvwxyz\"\n",
    "digits = \"0123456789\"\n",
    "symbols = \"~!@#$%^&*()_+=-|}{:?><,./';][\"\n",
    "\n",
    "while 1:\n",
    "    pass_len = int(input(\"Enter desired password length\"))\n",
    "    pass_count = int(input(\"Enter desired amount of passwords\"))\n",
    "    for i in range(0, pass_len):\n",
    "        password = \"\"\n",
    "        for i in range(0, pass_count):\n",
    "            password_upper = random.choice(uppercase_letters)\n",
    "            password_lower = random.choice(lowercase_letters)\n",
    "            password_dig = random.choice(digits)\n",
    "            password_sym = random.choice(symbols)\n",
    "            password     = password_upper + password_lower + password_dig + password_sym \n",
    "            print(\"Generated password is \", password)\n",
    "        \n",
    "    \n"
   ]
  },
  {
   "cell_type": "code",
   "execution_count": null,
   "id": "865ce713-f0ea-4774-bb77-35f7a517dc79",
   "metadata": {},
   "outputs": [],
   "source": []
  }
 ],
 "metadata": {
  "kernelspec": {
   "display_name": "Python 3 (ipykernel)",
   "language": "python",
   "name": "python3"
  },
  "language_info": {
   "codemirror_mode": {
    "name": "ipython",
    "version": 3
   },
   "file_extension": ".py",
   "mimetype": "text/x-python",
   "name": "python",
   "nbconvert_exporter": "python",
   "pygments_lexer": "ipython3",
   "version": "3.11.7"
  }
 },
 "nbformat": 4,
 "nbformat_minor": 5
}
